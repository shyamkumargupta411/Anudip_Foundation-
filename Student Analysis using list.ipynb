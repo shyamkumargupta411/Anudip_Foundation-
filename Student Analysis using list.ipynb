{
 "cells": [
  {
   "cell_type": "code",
   "execution_count": 1,
   "id": "cb16c9fe-3821-4b0b-b1cf-3fd9e8d1fd12",
   "metadata": {},
   "outputs": [],
   "source": [
    "from tabulate import tabulate"
   ]
  },
  {
   "cell_type": "code",
   "execution_count": 2,
   "id": "7dc58b29-b922-46f3-9420-4ab5ac74cb20",
   "metadata": {},
   "outputs": [],
   "source": [
    "data = [\n",
    "    [\"stdid\", \"stdname\", \"standard\", \"Age\", \"Hindi\", \"English\", \"Maths\", \"Science\", \"Computer\", \"Total\"],\n",
    "    [\"std101\", \"Ashish Kumar\", \"10th\", 15, 67, 89, 87, 89, 90, 422],\n",
    "    [\"std102\", \"Abhishek Kumar\", \"10th\", 14, 85, 45, 48, 90, 45, 313],\n",
    "    [\"std103\", \"Aman\", \"10th\", 15, 23, 56, 78, 78, 67, 302],\n",
    "    [\"std104\", \"Rahul\", \"10th\", 14, 45, 67, 45, 45, 56, 258],\n",
    "    [\"std105\", \"Ruby\", \"10th\", 13, 89, 67, 89, 93, 65, 403],\n",
    "    [\"std106\", \"Suman\", \"10th\", 13, 90, 46, 67, 67, 67, 337],\n",
    "    [\"std107\", \"Saurabh\", \"10th\", 15, 45, 23, 34, 45, 34, 181],\n",
    "    [\"std108\", \"Sumit\", \"10th\", 14, 23, 45, 67, 78, 90, 303],\n",
    "    [\"std109\", \"Kamlesh\", \"10th\", 15, 45, 56, 78, 99, 67, 345],\n",
    "    [\"std110\", \"Rohan\", \"10th\", 15, 34, 12, 24, 45, 56, 171]\n",
    "]"
   ]
  },
  {
   "cell_type": "code",
   "execution_count": 3,
   "id": "142919a8-9e38-46e3-94e9-65a867fb362d",
   "metadata": {},
   "outputs": [
    {
     "name": "stdout",
     "output_type": "stream",
     "text": [
      "+---------+----------------+------------+-------+---------+-----------+---------+-----------+------------+---------+\n",
      "| stdid   | stdname        | standard   |   Age |   Hindi |   English |   Maths |   Science |   Computer |   Total |\n",
      "+=========+================+============+=======+=========+===========+=========+===========+============+=========+\n",
      "| std101  | Ashish Kumar   | 10th       |    15 |      67 |        89 |      87 |        89 |         90 |     422 |\n",
      "+---------+----------------+------------+-------+---------+-----------+---------+-----------+------------+---------+\n",
      "| std102  | Abhishek Kumar | 10th       |    14 |      85 |        45 |      48 |        90 |         45 |     313 |\n",
      "+---------+----------------+------------+-------+---------+-----------+---------+-----------+------------+---------+\n",
      "| std103  | Aman           | 10th       |    15 |      23 |        56 |      78 |        78 |         67 |     302 |\n",
      "+---------+----------------+------------+-------+---------+-----------+---------+-----------+------------+---------+\n",
      "| std104  | Rahul          | 10th       |    14 |      45 |        67 |      45 |        45 |         56 |     258 |\n",
      "+---------+----------------+------------+-------+---------+-----------+---------+-----------+------------+---------+\n",
      "| std105  | Ruby           | 10th       |    13 |      89 |        67 |      89 |        93 |         65 |     403 |\n",
      "+---------+----------------+------------+-------+---------+-----------+---------+-----------+------------+---------+\n",
      "| std106  | Suman          | 10th       |    13 |      90 |        46 |      67 |        67 |         67 |     337 |\n",
      "+---------+----------------+------------+-------+---------+-----------+---------+-----------+------------+---------+\n",
      "| std107  | Saurabh        | 10th       |    15 |      45 |        23 |      34 |        45 |         34 |     181 |\n",
      "+---------+----------------+------------+-------+---------+-----------+---------+-----------+------------+---------+\n",
      "| std108  | Sumit          | 10th       |    14 |      23 |        45 |      67 |        78 |         90 |     303 |\n",
      "+---------+----------------+------------+-------+---------+-----------+---------+-----------+------------+---------+\n",
      "| std109  | Kamlesh        | 10th       |    15 |      45 |        56 |      78 |        99 |         67 |     345 |\n",
      "+---------+----------------+------------+-------+---------+-----------+---------+-----------+------------+---------+\n",
      "| std110  | Rohan          | 10th       |    15 |      34 |        12 |      24 |        45 |         56 |     171 |\n",
      "+---------+----------------+------------+-------+---------+-----------+---------+-----------+------------+---------+\n"
     ]
    }
   ],
   "source": [
    "print(tabulate(data[1:], headers = data[0] , tablefmt = 'grid'))\n"
   ]
  },
  {
   "cell_type": "code",
   "execution_count": 15,
   "id": "c48eb0c8-f102-4c1d-82f4-209c64a9e539",
   "metadata": {},
   "outputs": [
    {
     "name": "stdout",
     "output_type": "stream",
     "text": [
      "------------------------------\n",
      "Top Four Students in Maths:\n",
      "------------------------------\n",
      "Name: Ruby, Age: 13, Math Score: 89\n",
      "Name: Ashish Kumar, Age: 15, Math Score: 87\n",
      "Name: Aman, Age: 15, Math Score: 78\n",
      "Name: Kamlesh, Age: 15, Math Score: 78\n"
     ]
    }
   ],
   "source": [
    "print(\"------------------------------\")\n",
    "records = data[1:]\n",
    "\n",
    "n = len(records)\n",
    "for i in range(n):\n",
    "    for j in range(0, n-i-1):\n",
    "        if records[j][6] < records[j+1][6]:\n",
    "            records[j], records[j+1] = records[j+1], records[j]\n",
    "\n",
    "top_four_math = [(records[i][1], records[i][3], records[i][6]) for i in range(4)]\n",
    "\n",
    "print(\"Top Four Students in Maths:\")\n",
    "print(\"------------------------------\")\n",
    "for name, age, math_score in top_four_math:\n",
    "    print(f\"Name: {name}, Age: {age}, Math Score: {math_score}\")\n",
    "\n"
   ]
  },
  {
   "cell_type": "code",
   "execution_count": 16,
   "id": "14a8b547-eda0-4e79-a001-350969b4c8df",
   "metadata": {},
   "outputs": [
    {
     "name": "stdout",
     "output_type": "stream",
     "text": [
      "---------------------------------------------\n",
      "Bottom 3 student in Computer\n",
      "---------------------------------------------\n",
      "Name: Saurabh, ID: std107, Age: 15\n",
      "Name: Abhishek Kumar, ID: std102, Age: 14\n",
      "Name: Rahul, ID: std104, Age: 14\n"
     ]
    }
   ],
   "source": [
    "print(\"---------------------------------------------\")\n",
    "bottom_scorers_in_computer = sorted(data[1:], key=lambda x: x[8])[:3]\n",
    "print(\"Bottom 3 student in Computer\")\n",
    "print(\"---------------------------------------------\")\n",
    "for scorer in bottom_scorers_in_computer:\n",
    "    print(f\"Name: {scorer[1]}, ID: {scorer[0]}, Age: {scorer[3]}\")\n"
   ]
  },
  {
   "cell_type": "code",
   "execution_count": null,
   "id": "2f2c9d4e-201e-414d-813f-e39155d26169",
   "metadata": {},
   "outputs": [],
   "source": []
  }
 ],
 "metadata": {
  "kernelspec": {
   "display_name": "Python 3 (ipykernel)",
   "language": "python",
   "name": "python3"
  },
  "language_info": {
   "codemirror_mode": {
    "name": "ipython",
    "version": 3
   },
   "file_extension": ".py",
   "mimetype": "text/x-python",
   "name": "python",
   "nbconvert_exporter": "python",
   "pygments_lexer": "ipython3",
   "version": "3.11.3"
  }
 },
 "nbformat": 4,
 "nbformat_minor": 5
}
