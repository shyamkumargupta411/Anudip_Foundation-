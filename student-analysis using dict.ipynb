{
 "cells": [
  {
   "cell_type": "code",
   "execution_count": 1,
   "id": "d7ec6bec-4a27-45f7-ae90-f71f240e728a",
   "metadata": {},
   "outputs": [],
   "source": [
    "import tabulate as tabulate"
   ]
  },
  {
   "cell_type": "code",
   "execution_count": 10,
   "id": "2d06127e-8306-474c-a6e2-90083c975189",
   "metadata": {},
   "outputs": [],
   "source": [
    "data_dict = {\n",
    "    \"1\": {\n",
    "        \"stdid\":\"std101\",\n",
    "        \"stdname\": \"Ashish Kumar\",\n",
    "        \"standard\": \"10th\",\n",
    "        \"Age\": 15,\n",
    "        \"Hindi\": 67,\n",
    "        \"English\": 89,\n",
    "        \"Maths\": 87,\n",
    "        \"Science\": 89,\n",
    "        \"Computer\": 90,\n",
    "        \"Total\": 422\n",
    "    },\n",
    "    \"2\": {\n",
    "        \"stdid\":\"std102\",\n",
    "        \"stdname\": \"Abhishek Kumar\",\n",
    "        \"standard\": \"10th\",\n",
    "        \"Age\": 14,\n",
    "        \"Hindi\": 85,\n",
    "        \"English\": 45,\n",
    "        \"Maths\": 48,\n",
    "        \"Science\": 90,\n",
    "        \"Computer\": 45,\n",
    "        \"Total\": 313\n",
    "    },\n",
    "    \"3\": {\n",
    "        \"stdid\":\"std103\",\n",
    "        \"stdname\": \"Aman\",\n",
    "        \"standard\": \"10th\",\n",
    "        \"Age\": 15,\n",
    "        \"Hindi\": 23,\n",
    "        \"English\": 56,\n",
    "        \"Maths\": 78,\n",
    "        \"Science\": 78,\n",
    "        \"Computer\": 67,\n",
    "        \"Total\": 302\n",
    "    },\n",
    "    \"4\": {\n",
    "        \"stdid\":\"std104\",\n",
    "        \"stdname\": \"Rahul\",\n",
    "        \"standard\": \"10th\",\n",
    "        \"Age\": 14,\n",
    "        \"Hindi\": 45,\n",
    "        \"English\": 67,\n",
    "        \"Maths\": 45,\n",
    "        \"Science\": 45,\n",
    "        \"Computer\": 56,\n",
    "        \"Total\": 258\n",
    "    },\n",
    "    \"5\": {\n",
    "        \"stdid\":\"std105\",\n",
    "        \"stdname\": \"Ruby\",\n",
    "        \"standard\": \"10th\",\n",
    "        \"Age\": 13,\n",
    "        \"Hindi\": 89,\n",
    "        \"English\": 67,\n",
    "        \"Maths\": 89,\n",
    "        \"Science\": 93,\n",
    "        \"Computer\": 65,\n",
    "        \"Total\": 403\n",
    "    },\n",
    "    \"6\": {\n",
    "        \"stdid\":\"std106\",\n",
    "        \"stdname\": \"Suman\",\n",
    "        \"standard\": \"10th\",\n",
    "        \"Age\": 13,\n",
    "        \"Hindi\": 90,\n",
    "        \"English\": 46,\n",
    "        \"Maths\": 67,\n",
    "        \"Science\": 67,\n",
    "        \"Computer\": 67,\n",
    "        \"Total\": 337\n",
    "    },\n",
    "    \"7\": {\n",
    "        \"stdid\":\"std107\",\n",
    "        \"stdname\": \"Saurabh\",\n",
    "        \"standard\": \"10th\",\n",
    "        \"Age\": 15,\n",
    "        \"Hindi\": 45,\n",
    "        \"English\": 23,\n",
    "        \"Maths\": 34,\n",
    "        \"Science\": 45,\n",
    "        \"Computer\": 34,\n",
    "        \"Total\": 181\n",
    "    },\n",
    "    \"8\": {\n",
    "        \"stdid\":\"std108\",\n",
    "        \"stdname\": \"Sumit\",\n",
    "        \"standard\": \"10th\",\n",
    "        \"Age\": 14,\n",
    "        \"Hindi\": 23,\n",
    "        \"English\": 45,\n",
    "        \"Maths\": 67,\n",
    "        \"Science\": 78,\n",
    "        \"Computer\": 90,\n",
    "        \"Total\": 303\n",
    "    },\n",
    "    \"9\": {\n",
    "        \"stdid\":\"std109\",\n",
    "        \"stdname\": \"Kamlesh\",\n",
    "        \"standard\": \"10th\",\n",
    "        \"Age\": 15,\n",
    "        \"Hindi\": 45,\n",
    "        \"English\": 56,\n",
    "        \"Maths\": 78,\n",
    "        \"Science\": 99,\n",
    "        \"Computer\": 67,\n",
    "        \"Total\": 345\n",
    "    },\n",
    "    \"10\": {\n",
    "        \"stdid\":\"std110\",\n",
    "        \"stdname\": \"Rohan\",\n",
    "        \"standard\": \"10th\",\n",
    "        \"Age\": 15,\n",
    "        \"Hindi\": 34,\n",
    "        \"English\": 12,\n",
    "        \"Maths\": 24,\n",
    "        \"Science\": 45,\n",
    "        \"Computer\": 56,\n",
    "        \"Total\": 171\n",
    "    }\n",
    "}"
   ]
  },
  {
   "cell_type": "code",
   "execution_count": 11,
   "id": "b2aa078a-2971-4cc6-862a-081cce28199c",
   "metadata": {},
   "outputs": [
    {
     "name": "stdout",
     "output_type": "stream",
     "text": [
      "{'1': {'stdid': 'std101', 'stdname': 'Ashish Kumar', 'standard': '10th', 'Age': 15, 'Hindi': 67, 'English': 89, 'Maths': 87, 'Science': 89, 'Computer': 90, 'Total': 422}, '2': {'stdid': 'std102', 'stdname': 'Abhishek Kumar', 'standard': '10th', 'Age': 14, 'Hindi': 85, 'English': 45, 'Maths': 48, 'Science': 90, 'Computer': 45, 'Total': 313}, '3': {'stdid': 'std103', 'stdname': 'Aman', 'standard': '10th', 'Age': 15, 'Hindi': 23, 'English': 56, 'Maths': 78, 'Science': 78, 'Computer': 67, 'Total': 302}, '4': {'stdid': 'std104', 'stdname': 'Rahul', 'standard': '10th', 'Age': 14, 'Hindi': 45, 'English': 67, 'Maths': 45, 'Science': 45, 'Computer': 56, 'Total': 258}, '5': {'stdid': 'std105', 'stdname': 'Ruby', 'standard': '10th', 'Age': 13, 'Hindi': 89, 'English': 67, 'Maths': 89, 'Science': 93, 'Computer': 65, 'Total': 403}, '6': {'stdid': 'std106', 'stdname': 'Suman', 'standard': '10th', 'Age': 13, 'Hindi': 90, 'English': 46, 'Maths': 67, 'Science': 67, 'Computer': 67, 'Total': 337}, '7': {'stdid': 'std107', 'stdname': 'Saurabh', 'standard': '10th', 'Age': 15, 'Hindi': 45, 'English': 23, 'Maths': 34, 'Science': 45, 'Computer': 34, 'Total': 181}, '8': {'stdid': 'std108', 'stdname': 'Sumit', 'standard': '10th', 'Age': 14, 'Hindi': 23, 'English': 45, 'Maths': 67, 'Science': 78, 'Computer': 90, 'Total': 303}, '9': {'stdid': 'std109', 'stdname': 'Kamlesh', 'standard': '10th', 'Age': 15, 'Hindi': 45, 'English': 56, 'Maths': 78, 'Science': 99, 'Computer': 67, 'Total': 345}, '10': {'stdid': 'std110', 'stdname': 'Rohan', 'standard': '10th', 'Age': 15, 'Hindi': 34, 'English': 12, 'Maths': 24, 'Science': 45, 'Computer': 56, 'Total': 171}}\n"
     ]
    }
   ],
   "source": [
    "print(data_dict)"
   ]
  },
  {
   "cell_type": "code",
   "execution_count": 12,
   "id": "4d403409-5775-4fa1-ad09-f0354b4ba43e",
   "metadata": {},
   "outputs": [],
   "source": [
    "keys = list(data_dict.keys())\n",
    "values = list(data_dict.values())"
   ]
  },
  {
   "cell_type": "code",
   "execution_count": 22,
   "id": "689e0a85-ce88-41fa-b398-ab7e54796033",
   "metadata": {},
   "outputs": [
    {
     "name": "stdout",
     "output_type": "stream",
     "text": [
      "***************************************   Student Record  ************************************************\n",
      "--------------------------------------------------------------------------------------------------------\n",
      "Stdid    Name            Standard      Age    Hindi    English    Maths    Science    Computer    Total\n",
      "-------  --------------  ----------  -----  -------  ---------  -------  ---------  ----------  -------\n",
      "std101   Ashish Kumar    10th           15       67         89       87         89          90      422\n",
      "std102   Abhishek Kumar  10th           14       85         45       48         90          45      313\n",
      "std103   Aman            10th           15       23         56       78         78          67      302\n",
      "std104   Rahul           10th           14       45         67       45         45          56      258\n",
      "std105   Ruby            10th           13       89         67       89         93          65      403\n",
      "std106   Suman           10th           13       90         46       67         67          67      337\n",
      "std107   Saurabh         10th           15       45         23       34         45          34      181\n",
      "std108   Sumit           10th           14       23         45       67         78          90      303\n",
      "std109   Kamlesh         10th           15       45         56       78         99          67      345\n",
      "std110   Rohan           10th           15       34         12       24         45          56      171\n"
     ]
    }
   ],
   "source": [
    "table_data = []\n",
    "for value in values:\n",
    "    row = [value[\"stdid\"],value[\"stdname\"], value[\"standard\"], value[\"Age\"], value[\"Hindi\"], value[\"English\"], value[\"Maths\"], value[\"Science\"], value[\"Computer\"], value[\"Total\"]]\n",
    "    table_data.append(row)\n",
    "\n",
    "# Print the table\n",
    "print(\"***************************************   Student Record  ************************************************\")\n",
    "print(\"--------------------------------------------------------------------------------------------------------\")\n",
    "print(tabulate.tabulate(table_data, headers=[\"Stdid\",\"Name\", \"Standard\", \"Age\", \"Hindi\", \"English\", \"Maths\", \"Science\", \"Computer\", \"Total\"]))"
   ]
  },
  {
   "cell_type": "code",
   "execution_count": 32,
   "id": "23b21899-9044-4114-bef6-59131fd30a91",
   "metadata": {},
   "outputs": [
    {
     "name": "stdout",
     "output_type": "stream",
     "text": [
      "=======================================================================================\n",
      "Students whose marks is greater than 50 in English \n",
      "\n",
      "[('Ashish Kumar', 89), ('Aman', 56), ('Rahul', 67), ('Ruby', 67), ('Kamlesh', 56)]\n",
      "=======================================================================================\n"
     ]
    }
   ],
   "source": [
    "students_with_high_english_marks = [(details[\"stdname\"],details[\"English\"])for student, details in data_dict.items() if details[\"English\"] > 50]\n",
    "# Print the result\n",
    "print(\"=======================================================================================\")\n",
    "print(\"Students whose marks is greater than 50 in English \\n\")\n",
    "print(students_with_high_english_marks)\n",
    "print(\"=======================================================================================\")"
   ]
  },
  {
   "cell_type": "code",
   "execution_count": null,
   "id": "a5f1f07f-dcad-4434-b3ac-91d21d49e847",
   "metadata": {},
   "outputs": [],
   "source": []
  },
  {
   "cell_type": "code",
   "execution_count": null,
   "id": "79265002-62a2-4ee8-b529-c3e0164b96a4",
   "metadata": {},
   "outputs": [],
   "source": [
    "std_marks_in_maths = "
   ]
  }
 ],
 "metadata": {
  "kernelspec": {
   "display_name": "Python 3 (ipykernel)",
   "language": "python",
   "name": "python3"
  },
  "language_info": {
   "codemirror_mode": {
    "name": "ipython",
    "version": 3
   },
   "file_extension": ".py",
   "mimetype": "text/x-python",
   "name": "python",
   "nbconvert_exporter": "python",
   "pygments_lexer": "ipython3",
   "version": "3.11.3"
  }
 },
 "nbformat": 4,
 "nbformat_minor": 5
}
