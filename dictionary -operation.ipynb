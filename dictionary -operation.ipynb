{
 "cells": [
  {
   "cell_type": "code",
   "execution_count": 1,
   "id": "c6f4f586-991c-4fa7-84ef-433f7d6492f6",
   "metadata": {},
   "outputs": [],
   "source": [
    "my_dict = {'Name':'Ashok','Age':17,'Gender':'M','Role':'Student'}"
   ]
  },
  {
   "cell_type": "code",
   "execution_count": 4,
   "id": "9ef34786-610f-4da3-a371-c0c86c640e7b",
   "metadata": {},
   "outputs": [],
   "source": [
    "my_dict['Age']=18 #update/insert"
   ]
  },
  {
   "cell_type": "code",
   "execution_count": 5,
   "id": "d9857ed3-bf52-405f-aacf-58a9d08c6db5",
   "metadata": {},
   "outputs": [
    {
     "name": "stdout",
     "output_type": "stream",
     "text": [
      "{'Name': 'Ashok', 'Age': 18, 'Gender': 'M', 'Role': 'Student'}\n"
     ]
    }
   ],
   "source": [
    "print(my_dict)"
   ]
  },
  {
   "cell_type": "code",
   "execution_count": 6,
   "id": "5f904126-1e71-476f-9c0a-f6f910f0dc64",
   "metadata": {},
   "outputs": [
    {
     "name": "stdout",
     "output_type": "stream",
     "text": [
      "Name\n",
      "Age\n",
      "Gender\n",
      "Role\n"
     ]
    }
   ],
   "source": [
    "for key in my_dict:\n",
    "    print(key)"
   ]
  },
  {
   "cell_type": "code",
   "execution_count": 7,
   "id": "a7802cb5-1f92-4097-b998-a5d0d7912570",
   "metadata": {},
   "outputs": [
    {
     "name": "stdout",
     "output_type": "stream",
     "text": [
      "Name - Ashok\n",
      "Age - 18\n",
      "Gender - M\n",
      "Role - Student\n"
     ]
    }
   ],
   "source": [
    "for key in my_dict:\n",
    "    print(key,'-',my_dict[key])"
   ]
  },
  {
   "cell_type": "code",
   "execution_count": 8,
   "id": "5ac7ab73-c9f3-4bc6-8780-e545c2a78bd9",
   "metadata": {},
   "outputs": [
    {
     "data": {
      "text/plain": [
       "'Student'"
      ]
     },
     "execution_count": 8,
     "metadata": {},
     "output_type": "execute_result"
    }
   ],
   "source": [
    "my_dict.pop('Role') #Delection an element from dictionary"
   ]
  },
  {
   "cell_type": "code",
   "execution_count": 9,
   "id": "390d0085-11bc-4374-aefb-102bed334876",
   "metadata": {},
   "outputs": [
    {
     "name": "stdout",
     "output_type": "stream",
     "text": [
      "{'Name': 'Ashok', 'Age': 18, 'Gender': 'M'}\n"
     ]
    }
   ],
   "source": [
    "print(my_dict)"
   ]
  },
  {
   "cell_type": "code",
   "execution_count": 10,
   "id": "c77536f3-6b86-488f-9962-c5dc4f737b52",
   "metadata": {},
   "outputs": [
    {
     "name": "stdout",
     "output_type": "stream",
     "text": [
      "dict_keys(['Name', 'Age', 'Gender'])\n"
     ]
    }
   ],
   "source": [
    "# to find out all the keys\n",
    "listvar = my_dict.keys()\n",
    "print(listvar)\n"
   ]
  },
  {
   "cell_type": "code",
   "execution_count": 11,
   "id": "739b8466-2150-4913-905f-d8f87b686a29",
   "metadata": {},
   "outputs": [],
   "source": [
    "my_dict['Role']='Student'"
   ]
  },
  {
   "cell_type": "code",
   "execution_count": 12,
   "id": "27503266-002b-4aea-b70f-bd9a6023e22b",
   "metadata": {},
   "outputs": [
    {
     "name": "stdout",
     "output_type": "stream",
     "text": [
      "{'Name': 'Ashok', 'Age': 18, 'Gender': 'M', 'Role': 'Student'}\n"
     ]
    }
   ],
   "source": [
    "print(my_dict)"
   ]
  },
  {
   "cell_type": "code",
   "execution_count": 13,
   "id": "bef19860-0350-491d-8b09-dc18d0858521",
   "metadata": {},
   "outputs": [
    {
     "name": "stdout",
     "output_type": "stream",
     "text": [
      "dict_values(['Ashok', 18, 'M', 'Student'])\n"
     ]
    }
   ],
   "source": [
    "# to find the values of all elements\n",
    "element_name = my_dict.values()\n",
    "print(element_name)"
   ]
  },
  {
   "cell_type": "code",
   "execution_count": 14,
   "id": "da4603a8-b5d7-40fc-938a-f2bee4e4c7bb",
   "metadata": {},
   "outputs": [
    {
     "name": "stdout",
     "output_type": "stream",
     "text": [
      "dict_items([('Name', 'Ashok'), ('Age', 18), ('Gender', 'M'), ('Role', 'Student')])\n"
     ]
    }
   ],
   "source": [
    "# find all the items\n",
    "elements = my_dict.items()\n",
    "print(elements)"
   ]
  },
  {
   "cell_type": "code",
   "execution_count": null,
   "id": "29e665b8-0f6a-4102-ba18-96ea8444b96c",
   "metadata": {},
   "outputs": [],
   "source": []
  },
  {
   "cell_type": "code",
   "execution_count": null,
   "id": "9affb71e-b4cd-473a-ad13-d374f09cce51",
   "metadata": {},
   "outputs": [],
   "source": []
  },
  {
   "cell_type": "code",
   "execution_count": 17,
   "id": "307342d1-6f40-4dd3-a6b0-7738fd60241c",
   "metadata": {},
   "outputs": [
    {
     "name": "stdout",
     "output_type": "stream",
     "text": [
      "First Dictionary \n",
      " {'name': 'Aman', 'age': 15, 'standard': '9th', 'gender': 'M'}\n",
      "-------------------------------------------------------------------------------------------------------------------------\n",
      "Second dictionary \n",
      " {'grade': 'A', 'Percentage': 87, 'Status': 'Pass'}\n",
      "-------------------------------------------------------------------------------------------------------------------------\n"
     ]
    }
   ],
   "source": [
    "#first dictionary\n",
    "dict1 = {'name':'Aman','age':15,'standard':'9th','gender':'M'}\n",
    "print(\"First Dictionary \\n\",dict1)\n",
    "\n",
    "print(\"-------------------------------------------------------------------------------------------------------------------------\")\n",
    "dict2 = {'grade':'A','Percentage':87,'Status':'Pass'}\n",
    "print(\"Second dictionary \\n\",dict2)\n",
    "print(\"-------------------------------------------------------------------------------------------------------------------------\")"
   ]
  },
  {
   "cell_type": "code",
   "execution_count": 18,
   "id": "a3e9dc72-a45a-403a-8594-bcd81a2e95c2",
   "metadata": {},
   "outputs": [
    {
     "name": "stdout",
     "output_type": "stream",
     "text": [
      "{'name': 'Aman', 'age': 15, 'standard': '9th', 'gender': 'M', 'grade': 'A', 'Percentage': 87, 'Status': 'Pass'}\n"
     ]
    }
   ],
   "source": [
    "#inserting element of dict2 into dict 1\n",
    "dict1.update(dict2)\n",
    "print(dict1)"
   ]
  },
  {
   "cell_type": "code",
   "execution_count": null,
   "id": "7c99f59f-7ba5-40ff-a26c-38434878707a",
   "metadata": {},
   "outputs": [],
   "source": []
  }
 ],
 "metadata": {
  "kernelspec": {
   "display_name": "Python 3 (ipykernel)",
   "language": "python",
   "name": "python3"
  },
  "language_info": {
   "codemirror_mode": {
    "name": "ipython",
    "version": 3
   },
   "file_extension": ".py",
   "mimetype": "text/x-python",
   "name": "python",
   "nbconvert_exporter": "python",
   "pygments_lexer": "ipython3",
   "version": "3.11.3"
  }
 },
 "nbformat": 4,
 "nbformat_minor": 5
}
